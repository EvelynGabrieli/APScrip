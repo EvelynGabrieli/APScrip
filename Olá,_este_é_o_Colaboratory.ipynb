{
  "cells": [
    {
      "cell_type": "markdown",
      "metadata": {
        "id": "view-in-github",
        "colab_type": "text"
      },
      "source": [
        "<a href=\"https://colab.research.google.com/github/EvelynGabrieli/APScrip/blob/main/Ol%C3%A1%2C_este_%C3%A9_o_Colaboratory.ipynb\" target=\"_parent\"><img src=\"https://colab.research.google.com/assets/colab-badge.svg\" alt=\"Open In Colab\"/></a>"
      ]
    },
    {
      "cell_type": "code",
      "source": [
        "#FAZER CRIPTOGRAFIA\n",
        "#TENTAR COLOCAR A MENSAGEM EM UMA MATRIZ \n",
        "#MOSTRAR MENSAGEM CRIPTOGRAFADA E DESCRIPTOGRAFADA PUXANDO DA MATRIZ\n",
        "\n",
        "\n",
        "def login():\n",
        "  cpf = int(input(\"Digite o seu CPF \"))\n",
        "  password = int(input(\"Digite senha \"))\n",
        "  #Senha tem que ser igual a 1232022 para dar continuidade, caso ao contrario vai ocorrer erro.\n",
        "  if password == 1232022:\n",
        "   seguranca()\n",
        "  else:\n",
        "    print(\"ERROR!\") # VER ISSO não está aparecendo so o erro\n",
        "    return login()\n",
        "\n",
        "def seguranca(): \n",
        "  codseg = int(input(\"Digite o código de segurança \"))\n",
        "  if codseg == 2022123:\n",
        "    menu()\n",
        "  else:\n",
        "    print(\"ERROR!\")\n",
        "    return login()\n",
        "\n",
        "def menu():    \n",
        "#Escolher um número de acordo com o que quer realizar     \n",
        "      numero = int(input(\"1 - Enviar Mensagem\\n2 - Ver mensagem enviada\\n3 - Sair\\nDigite o número de escolha \"))\n",
        "\n",
        "#Caso escolher 1, vai levar para a função que criptografa a mensagem que vai ser enviada      \n",
        "      if numero == 1:\n",
        "        cripto()\n",
        "      \n",
        "#Caso escolher 2 irá ver a mensagem descriptografada, apenas se tiver enviado   \n",
        "      if numero == 2:\n",
        "        descrip()\n",
        "      \n",
        "#Sair do sistema\n",
        "      if numero == 3:\n",
        "        mensagem()\n",
        "\n",
        "      else:\n",
        "        (\"ERROR!\") # VER ISSO\n",
        "\n",
        "\n",
        "def cripto():\n",
        "  mensagem = input(\"Digite a mensagem que queria criptografar \")\n",
        "  return menu()\n",
        "#Colocar o metódo pra criptografar a mensagem\n",
        "\n",
        "def descrip():\n",
        " print(\"A mensagem descriptografada é... \")\n",
        " return menu()\n",
        "#Mostrar a mensagem descriptografada\n",
        "\n",
        "def mensagem():\n",
        "  print(\"Obrigado por utilizar nosso sistema!\")\n",
        "#Encerramento do sistema\n",
        "\n",
        "#Começo do sistema\n",
        "print(\"<----------------------------BEM VINDO---------------------------->\")\n",
        "print(\"<<<<< PARA TER ACESSO AO SISTEMA DIGITE AS INFORMAÇÕES ABAIXO >>>>>\")\n",
        "print(\"**************************ACESSO RESTRITO**************************\")\n",
        "\n",
        "#Chamando funções \n",
        "login()\n",
        "\n",
        "\n",
        "\n"
      ],
      "metadata": {
        "colab": {
          "base_uri": "https://localhost:8080/"
        },
        "id": "F-0Yxs8d1Yyx",
        "outputId": "3b8ef7c0-fe8b-423e-dcd5-a4a1e88e23ee"
      },
      "execution_count": 98,
      "outputs": [
        {
          "output_type": "stream",
          "name": "stdout",
          "text": [
            "<----------------------------BEM VINDO---------------------------->\n",
            "<<<<< PARA TER ACESSO AO SISTEMA DIGITE AS INFORMAÇÕES ABAIXO >>>>>\n",
            "**************************ACESSO RESTRITO**************************\n",
            "Digite o seu CPF 12311\n",
            "Digite senha 2\n",
            "ERROR!\n",
            "Digite o seu CPF 1231\n",
            "Digite senha 1232022\n",
            "Digite o código de segurança 2\n",
            "ERROR\n",
            "Digite o seu CPF 1231\n",
            "Digite senha 123\n",
            "ERROR!\n",
            "Digite o seu CPF 132132\n",
            "Digite senha 1232022\n",
            "Digite o código de segurança 2022123\n",
            "1 - Enviar Mensagem\n",
            "2 - Ver mensagem enviada\n",
            "3 - Sair\n",
            "Digite o número de escolha 1\n",
            "Digite a mensagem que queria criptografar eve\n",
            "1 - Enviar Mensagem\n",
            "2 - Ver mensagem enviada\n",
            "3 - Sair\n",
            "Digite o número de escolha 2\n",
            "A mensagem descriptografada é... \n",
            "1 - Enviar Mensagem\n",
            "2 - Ver mensagem enviada\n",
            "3 - Sair\n",
            "Digite o número de escolha 3\n",
            "Obrigado por utilizar nosso sistema!\n"
          ]
        }
      ]
    }
  ],
  "metadata": {
    "colab": {
      "collapsed_sections": [],
      "name": "Olá, este é o Colaboratory",
      "toc_visible": true,
      "provenance": [],
      "include_colab_link": true
    },
    "kernelspec": {
      "display_name": "Python 3",
      "name": "python3"
    }
  },
  "nbformat": 4,
  "nbformat_minor": 0
}