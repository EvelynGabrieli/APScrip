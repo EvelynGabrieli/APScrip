{
  "cells": [
    {
      "cell_type": "markdown",
      "metadata": {
        "id": "view-in-github",
        "colab_type": "text"
      },
      "source": [
        "<a href=\"https://colab.research.google.com/github/EvelynGabrieli/APScrip/blob/main/Ol%C3%A1%2C_este_%C3%A9_o_Colaboratory.ipynb\" target=\"_parent\"><img src=\"https://colab.research.google.com/assets/colab-badge.svg\" alt=\"Open In Colab\"/></a>"
      ]
    },
    {
      "cell_type": "code",
      "source": [
        "\n",
        "#MOSTRAR MENSAGEM DESCRIPTOGRAFADA \n",
        "\n",
        "def login():\n",
        "  cpf = int(input(\"            Digite o seu CPF: \"))\n",
        "  password = int(input(\"            Digite senha: \"))\n",
        "  #Senha tem que ser igual a 1232022 para dar continuidade, caso ao contrario vai ocorrer erro.\n",
        "  if password == 1232022:\n",
        "   seguranca()\n",
        "  else:\n",
        "    print(\"                              ERROR!\") # VER ISSO não está aparecendo so o erro\n",
        "    return login()\n",
        "\n",
        "def seguranca(): \n",
        "  codseg = int(input(\"            Digite o código de segurança: \"))\n",
        "  if codseg == 2022123:\n",
        "    menu()\n",
        "  else:\n",
        "    print(\"                              ERROR!\")\n",
        "    return login()\n",
        "\n",
        "def menu():    \n",
        "#Escolher um número de acordo com o que quer realizar     \n",
        "      numero = int(input(\"\\n            1 - Enviar mensagem com segurança, CRIPTOGRAFADA: \\n            2 - Vizualizar mensagem enviada, DESCRIPTOGRAFADA\\n            3 - Sair\\n            Digite o número de escolha \"))\n",
        "\n",
        "#Caso escolher 1, vai levar para a função que criptografa a mensagem que vai ser enviada      \n",
        "      if numero == 1:\n",
        "        mensagem = input(\"            Digite a mensagem que queria criptografar: \")\n",
        "        cipher = cripto(mensagem, pubkey)\n",
        "        \n",
        "        \n",
        "#Caso escolher 2 irá ver a mensagem descriptografada, apenas se tiver enviado   \n",
        "      if numero == 2:\n",
        "        decipher = descrip(cipher, prikey)\n",
        "        print(\"           MENSAGEM DESCRIPTOGRAFADA... \")\n",
        "#Sair do sistema\n",
        "      if numero == 3:\n",
        "        aviso()\n",
        "\n",
        "      else:\n",
        "        (\"                              ERROR!\") # VER ISSO\n",
        "\n",
        "\n",
        "\n",
        "\n",
        "p, q = 55, 71\n",
        "i = p * q\n",
        "l = 79\n",
        "o = 1019\n",
        "\n",
        "pubkey = (l, i)\n",
        "prikey = (o, i)\n",
        "\n",
        "def cripto(message, pubkey):\n",
        "    mensagem = [ord(char) for char in message]\n",
        "    l, i = pubkey\n",
        "    c = [m ** l % i for m in mensagem]\n",
        "    print(\"            MENSAGEM ENVIADA E CRIPTOGRAFADA COM SUCESSO... \" , c)\n",
        "    return menu()\n",
        "\n",
        "#Colocar o metódo pra criptografar a mensagem\n",
        "\n",
        "def descrip(cipher, prikey):    \n",
        "    mensagem = [chr(m) for m in mensagem]\n",
        "    o, i = prikey\n",
        "    mensagem = [c ** o % i for c in cipher]\n",
        "    message = ''.join(mensagem)\n",
        "    return message\n",
        "\n",
        "#Mostrar a mensagem descriptografada\n",
        "\n",
        "def aviso():\n",
        "  print(\"            Obrigado por utilizar nosso sistema!\")\n",
        "#Encerramento do sistema\n",
        "\n",
        "#Começo do sistema\n",
        "print(\"<----------------------------BEM VINDO---------------------------->\")\n",
        "print(\"<<<<< PARA TER ACESSO AO SISTEMA DIGITE AS INFORMAÇÕES ABAIXO >>>>>\")\n",
        "print(\"**************************ACESSO RESTRITO**************************\")\n",
        "\n",
        "#Chamando funções \n",
        "login()\n"
      ],
      "metadata": {
        "colab": {
          "base_uri": "https://localhost:8080/"
        },
        "id": "9pTsLsrS7uCh",
        "outputId": "9f1aef41-9b1d-45e6-a587-c499fca84548"
      },
      "execution_count": null,
      "outputs": [
        {
          "output_type": "stream",
          "name": "stdout",
          "text": [
            "<----------------------------BEM VINDO---------------------------->\n",
            "<<<<< PARA TER ACESSO AO SISTEMA DIGITE AS INFORMAÇÕES ABAIXO >>>>>\n",
            "**************************ACESSO RESTRITO**************************\n"
          ]
        }
      ]
    },
    {
      "cell_type": "code",
      "source": [
        "def descriptografar(cipher, prikey):\n",
        "    o, i = prikey\n",
        "    msg = [c ** o % i for c in cipher]\n",
        "    msg = [chr(m) for m in msg]\n",
        "    message = ''.join(msg)\n",
        "    return message\n",
        "\n",
        "\n",
        "def criptografar(message, pubkey):\n",
        "    msg = [ord(char) for char in message]\n",
        "    l, i = pubkey\n",
        "    c = [m ** l % i for m in msg]\n",
        "    return c\n",
        "\n",
        "\n",
        "p, q = 47, 71\n",
        "i = p * q\n",
        "l = 79\n",
        "o = 1019\n",
        "\n",
        "pubkey = (l, i)\n",
        "prikey = (o, i)\n",
        "\n",
        "opcao = 0\n",
        "while opcao != 3:\n",
        "    print(\"\")\n",
        "    print(\"Insira uma opção\")\n",
        "    print(\"1- Criptografar\")\n",
        "    print(\"2- Descriptografar\")\n",
        "    print(\"3- Finalizar o programa\")\n",
        "    print(\"\")\n",
        "    opcao = int(input(\"opção \"))\n",
        "\n",
        "    if opcao == 1:\n",
        "        msg = input(\"Insira a mensagem que irá ser criptografada: \")\n",
        "        cipher = criptografar(msg, pubkey)\n",
        "        print(\"\\n\", '-'.join(map(str, cipher)))\n",
        "    elif opcao == 2:\n",
        "        decipher = descriptografar(cipher, prikey)\n",
        "        print(decipher)\n",
        "    elif opcao == 3:\n",
        "        print(\"Fim do codigo!\")\n",
        "    else:\n",
        "        print(\"Opção não existente!\")\n"
      ],
      "metadata": {
        "colab": {
          "base_uri": "https://localhost:8080/"
        },
        "id": "Fq5FzMVUHDz2",
        "outputId": "5510c4cf-b076-4d05-ea52-37b8eeb48ff4"
      },
      "execution_count": 64,
      "outputs": [
        {
          "output_type": "stream",
          "name": "stdout",
          "text": [
            "\n",
            "Insira uma opção\n",
            "1- Criptografar\n",
            "2- Descriptografar\n",
            "3- Finalizar o programa\n",
            "\n",
            "opção 1\n",
            "Insira a mensagem que irá ser criptografada: eve\n",
            "\n",
            " 1113-954-1113\n",
            "\n",
            "Insira uma opção\n",
            "1- Criptografar\n",
            "2- Descriptografar\n",
            "3- Finalizar o programa\n",
            "\n",
            "opção 3\n",
            "Fim do codigo!\n"
          ]
        }
      ]
    }
  ],
  "metadata": {
    "colab": {
      "collapsed_sections": [],
      "name": "Olá, este é o Colaboratory",
      "toc_visible": true,
      "provenance": [],
      "include_colab_link": true
    },
    "kernelspec": {
      "display_name": "Python 3",
      "name": "python3"
    }
  },
  "nbformat": 4,
  "nbformat_minor": 0
}