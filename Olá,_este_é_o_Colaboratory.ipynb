{
  "cells": [
    {
      "cell_type": "markdown",
      "metadata": {
        "id": "view-in-github",
        "colab_type": "text"
      },
      "source": [
        "<a href=\"https://colab.research.google.com/github/EvelynGabrieli/APScrip/blob/main/Ol%C3%A1%2C_este_%C3%A9_o_Colaboratory.ipynb\" target=\"_parent\"><img src=\"https://colab.research.google.com/assets/colab-badge.svg\" alt=\"Open In Colab\"/></a>"
      ]
    },
    {
      "cell_type": "code",
      "source": [
        "#FAZER CRIPTOGRAFIA\n",
        "#TENTAR COLOCAR A MENSAGEM EM UMA MATRIZ \n",
        "#MOSTRAR MENSAGEM CRIPTOGRAFADA E DESCRIPTOGRAFADA PUXANDO DA MATRIZ\n",
        "\n",
        "\n",
        "def login():\n",
        "  cpf = int(input(\"            Digite o seu CPF \"))\n",
        "  password = int(input(\"            Digite senha \"))\n",
        "  #Senha tem que ser igual a 1232022 para dar continuidade, caso ao contrario vai ocorrer erro.\n",
        "  if password == 1232022:\n",
        "   seguranca()\n",
        "  else:\n",
        "    print(\"                              ERROR!\") \n",
        "    return login()\n",
        "\n",
        "def seguranca(): \n",
        "  codseg = int(input(\"            Digite o código de segurança \"))\n",
        "  if codseg == 2022123:\n",
        "    menu()\n",
        "  else:\n",
        "    print(\"                              ERROR!\")\n",
        "    return login()\n",
        "\n",
        "def menu():    \n",
        "#Escolher um número de acordo com o que quer realizar     \n",
        "      numero = int(input(\"\\n            1 - Enviar Mensagem\\n            2 - Ver mensagem enviada\\n            3 - Sair\\n            Digite o número de escolha \"))\n",
        "\n",
        "#Caso escolher 1, vai levar para a função que criptografa a mensagem que vai ser enviada      \n",
        "      if numero == 1:\n",
        "        cripto()\n",
        "      \n",
        "#Caso escolher 2 irá ver a mensagem descriptografada, apenas se tiver enviado   \n",
        "      if numero == 2:\n",
        "        descrip()\n",
        "      \n",
        "#Sair do sistema\n",
        "      if numero == 3:\n",
        "        mensagem()\n",
        "\n",
        "      else:\n",
        "        print(\"                              ERROR!\") # VER ISSO\n",
        "\n",
        "\n",
        "def cripto():\n",
        "  mensagem = input(\"            Digite a mensagem que queria criptografar \")\n",
        "  return menu()\n",
        "#Colocar o metódo pra criptografar a mensagem\n",
        "\n",
        "def descrip():\n",
        " print(\"            A mensagem descriptografada é... \")\n",
        " return menu()\n",
        "#Mostrar a mensagem descriptografada\n",
        "\n",
        "def mensagem():\n",
        "  print(\"            Obrigado por utilizar nosso sistema!\")\n",
        "#Encerramento do sistema\n",
        "\n",
        "#Começo do sistema\n",
        "print(\"<----------------------------BEM VINDO---------------------------->\")\n",
        "print(\"<<<<< PARA TER ACESSO AO SISTEMA DIGITE AS INFORMAÇÕES ABAIXO >>>>>\")\n",
        "print(\"**************************ACESSO RESTRITO**************************\")\n",
        "\n",
        "#Chamando funções \n",
        "login()"
      ],
      "metadata": {
        "colab": {
          "base_uri": "https://localhost:8080/"
        },
        "id": "1Za2evZ1nprd",
        "outputId": "2e5f94b0-be37-4625-cc28-e9584239d688"
      },
      "execution_count": 3,
      "outputs": [
        {
          "name": "stdout",
          "output_type": "stream",
          "text": [
            "<----------------------------BEM VINDO---------------------------->\n",
            "<<<<< PARA TER ACESSO AO SISTEMA DIGITE AS INFORMAÇÕES ABAIXO >>>>>\n",
            "**************************ACESSO RESTRITO**************************\n",
            "            Digite o seu CPF 213132\n",
            "            Digite senha 1232022\n",
            "            Digite o código de segurança 2022123\n",
            "\n",
            "            1 - Enviar Mensagem\n",
            "            2 - Ver mensagem enviada\n",
            "            3 - Sair\n",
            "            Digite o número de escolha 7\n"
          ]
        }
      ]
    }
  ],
  "metadata": {
    "colab": {
      "collapsed_sections": [],
      "name": "Olá, este é o Colaboratory",
      "toc_visible": true,
      "provenance": [],
      "include_colab_link": true
    },
    "kernelspec": {
      "display_name": "Python 3",
      "name": "python3"
    }
  },
  "nbformat": 4,
  "nbformat_minor": 0
}