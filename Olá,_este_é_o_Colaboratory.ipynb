{
  "cells": [
    {
      "cell_type": "markdown",
      "metadata": {
        "id": "view-in-github",
        "colab_type": "text"
      },
      "source": [
        "<a href=\"https://colab.research.google.com/github/EvelynGabrieli/APScrip/blob/main/Ol%C3%A1%2C_este_%C3%A9_o_Colaboratory.ipynb\" target=\"_parent\"><img src=\"https://colab.research.google.com/assets/colab-badge.svg\" alt=\"Open In Colab\"/></a>"
      ]
    },
    {
      "cell_type": "code",
      "source": [
        "def cripto():\n",
        "  mensagem = input(\"Digite a mensagem que queria criptografar \")\n",
        "#colocar o metodo pra criptografar a mensagem\n",
        "\n",
        "def descrip():\n",
        " print(\"A mensagem descriptografada é \")\n",
        "#mostrar a mensagem descriptografada\n",
        "\n",
        "def mensagem():\n",
        "  print(\"Obrigado por utilizar nosso sistema!\")\n",
        "#encerrou o sistema\n",
        "\n",
        "print(\"<----------------------------BEM VINDO---------------------------->\")\n",
        "print(\"<<<<< PARA TER ACESSO AO SISTEMA DIGITE AS INFORMAÇÕES ABAIXO >>>>>\")\n",
        "print(\"**************************ACESSO RESTRITO**************************\")\n",
        "\n",
        "cpf = int(input(\"Digite o seu CPF \"))\n",
        "password = int(input(\"Digite senha \"))\n",
        "#se a senha for igual a 123 vai continuar e vai pedir o codigo de segurança\n",
        "if password == 1232022:\n",
        "    codseg = int(input(\"Digite o código de segurança \"))\n",
        "else:\n",
        "   print(\"ERROR!\")\n",
        "#tem que para aqui se a pessoa digitar numero diferente de 456\n",
        "if codseg == 2022123:\n",
        "    numero = 0\n",
        "    while (numero != 3): \n",
        "      numero = int(input(\"1 - Entrar em contato atraves de mensagem criptogtafada\\n2 - Ver mensagem\\n3 - Sair\\nDigite o número de escolha \"))\n",
        "      \n",
        "      if numero == 1:\n",
        "        cripto()\n",
        "      \n",
        "    \n",
        "      if numero == 2:\n",
        "        descrip()\n",
        "      \n",
        "\n",
        "      if numero == 3:\n",
        "        mensagem()\n",
        "else:\n",
        "    (\"ERROR!\")\n",
        "\n",
        "\n",
        "\n",
        "\n"
      ],
      "metadata": {
        "colab": {
          "base_uri": "https://localhost:8080/"
        },
        "id": "F-0Yxs8d1Yyx",
        "outputId": "cb473c4c-6425-4407-a7a1-73a4a50bce0a"
      },
      "execution_count": 65,
      "outputs": [
        {
          "output_type": "stream",
          "name": "stdout",
          "text": [
            "<----------------------------BEM VINDO---------------------------->\n",
            "<<<<< PARA TER ACESSO AO SISTEMA DIGITE AS INFORMAÇÕES ABAIXO >>>>>\n",
            "**************************ACESSO RESTRITO**************************\n",
            "Digite o seu CPF 456464\n",
            "Digite senha 1232022\n",
            "Digite o código de segurança 2022123\n",
            "1 - Entrar em contato atraves de mensagem criptogtafada\n",
            "2 - Ver mensagem\n",
            "3 - Sair\n",
            "Digite o número de escolha 1\n",
            "Digite a mensagem que queria criptografar rrwrw\n",
            "1 - Entrar em contato atraves de mensagem criptogtafada\n",
            "2 - Ver mensagem\n",
            "3 - Sair\n",
            "Digite o número de escolha 3\n",
            "Obrigada por utilizar o sistema!\n"
          ]
        }
      ]
    }
  ],
  "metadata": {
    "colab": {
      "collapsed_sections": [],
      "name": "Olá, este é o Colaboratory",
      "toc_visible": true,
      "provenance": [],
      "include_colab_link": true
    },
    "kernelspec": {
      "display_name": "Python 3",
      "name": "python3"
    }
  },
  "nbformat": 4,
  "nbformat_minor": 0
}