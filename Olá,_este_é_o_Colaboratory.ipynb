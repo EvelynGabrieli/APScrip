{
  "cells": [
    {
      "cell_type": "markdown",
      "metadata": {
        "id": "view-in-github",
        "colab_type": "text"
      },
      "source": [
        "<a href=\"https://colab.research.google.com/github/EvelynGabrieli/APScrip/blob/main/Ol%C3%A1%2C_este_%C3%A9_o_Colaboratory.ipynb\" target=\"_parent\"><img src=\"https://colab.research.google.com/assets/colab-badge.svg\" alt=\"Open In Colab\"/></a>"
      ]
    },
    {
      "cell_type": "code",
      "source": [
        "#criptografar mensagem em caracteres especiais\n",
        "def criptoCaractere():\n",
        "  mensagemCaractere = input(\"Digite a mensagem que queria criptografar Caractere\")\n",
        "\n",
        "#criptografar em numeros\n",
        "def criptoNumero():\n",
        "  mensagemNumero = input(\"Digite a mensagem que queria criptografar Número \")\n",
        "\n",
        "# descriptografar mensagem\n",
        "def descrip():\n",
        " print(\"A mensagem descriptografada é \")\n",
        "\n",
        "#encerrou o sistema\n",
        "def mensagem():\n",
        "  print(\"Obrigada por utilizar o sistema!\")\n",
        "\n",
        "\n",
        "print(\"<----------------------------BEM VINDO---------------------------->\")\n",
        "print(\"<<<<< PARA TER ACESSO AO SISTEMA DIGITE AS INFORMAÇÕES ABAIXO >>>>>\")\n",
        "print(\"**************************ACESSO RESTRITO**************************\")\n",
        "\n",
        "cpf = int(input(\"Digite o seu CPF \"))\n",
        "password = int(input(\"Digite senha \"))\n",
        "#se a senha for igual a 123 vai continuar e vai pedir o codigo de segurança\n",
        "if password == 123:\n",
        "    codseg = int(input(\"Digite o código de segurança \"))\n",
        "else:\n",
        "   print(\"ERROR!\")\n",
        "\n",
        "#tem que para aqui se a pessoa digitar numero diferente de 456\n",
        "if codseg == 456:\n",
        "    numero = 0\n",
        "    while (numero != 4): \n",
        "      numero = int(input(\"1 - Entrar em contato atraves de mensagem criptogtafada em NÚMEROS\\n2 - Entrar em contato atraves de mensagem criptogtafada em CARACTERES ESPECIAIS\\n3 - Ver mensagem\\n4 - SAIR\\nDigite o número de escolha \"))\n",
        "      \n",
        "      if numero == 1:\n",
        "        criptoCaractere()\n",
        "      \n",
        "    \n",
        "      if numero == 2:\n",
        "        criptoNumero()\n",
        "      \n",
        "\n",
        "      if numero == 3:\n",
        "        descrip()\n",
        "        \n",
        "      if numero == 4:\n",
        "        mensagem()\n",
        "else:\n",
        "    (\"ERROR!\")\n",
        "\n",
        "\n",
        "\n",
        "\n"
      ],
      "metadata": {
        "id": "F-0Yxs8d1Yyx",
        "outputId": "44cae991-c494-4f79-bf84-6a77600350b1",
        "colab": {
          "base_uri": "https://localhost:8080/"
        }
      },
      "execution_count": 60,
      "outputs": [
        {
          "output_type": "stream",
          "name": "stdout",
          "text": [
            "<----------------------------BEM VINDO---------------------------->\n",
            "<<<<< PARA TER ACESSO AO SISTEMA DIGITE AS INFORMAÇÕES ABAIXO >>>>>\n",
            "**************************ACESSO RESTRITO**************************\n",
            "Digite o seu CPF 54646\n",
            "Digite senha 123\n",
            "Digite o código de segurança 456\n",
            "1 - Entrar em contato atraves de mensagem criptogtafada em NÚMEROS\n",
            "2 - Entrar em contato atraves de mensagem criptogtafada em CARACTERES ESPECIAIS\n",
            "3 - Ver mensagem\n",
            "4 - SAIR\n",
            "Digite o número de escolha 1\n",
            "Digite a mensagem que queria criptografar Caractereeveve\n",
            "1 - Entrar em contato atraves de mensagem criptogtafada em NÚMEROS\n",
            "2 - Entrar em contato atraves de mensagem criptogtafada em CARACTERES ESPECIAIS\n",
            "3 - Ver mensagem\n",
            "4 - SAIR\n",
            "Digite o número de escolha 4\n",
            "Obrigada por utilizar o sistema!\n"
          ]
        }
      ]
    }
  ],
  "metadata": {
    "colab": {
      "collapsed_sections": [],
      "name": "Olá, este é o Colaboratory",
      "toc_visible": true,
      "provenance": [],
      "include_colab_link": true
    },
    "kernelspec": {
      "display_name": "Python 3",
      "name": "python3"
    }
  },
  "nbformat": 4,
  "nbformat_minor": 0
}